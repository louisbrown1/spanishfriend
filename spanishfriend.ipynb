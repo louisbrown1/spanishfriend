{
  "nbformat": 4,
  "nbformat_minor": 0,
  "metadata": {
    "colab": {
      "provenance": [],
      "authorship_tag": "ABX9TyNC7rkoQekUNYRtqNKqLdAR",
      "include_colab_link": true
    },
    "kernelspec": {
      "name": "python3",
      "display_name": "Python 3"
    },
    "language_info": {
      "name": "python"
    }
  },
  "cells": [
    {
      "cell_type": "markdown",
      "metadata": {
        "id": "view-in-github",
        "colab_type": "text"
      },
      "source": [
        "<a href=\"https://colab.research.google.com/github/louisbrown1/spanishfriend/blob/main/spanishfriend.ipynb\" target=\"_parent\"><img src=\"https://colab.research.google.com/assets/colab-badge.svg\" alt=\"Open In Colab\"/></a>"
      ]
    },
    {
      "cell_type": "code",
      "source": [
        "!pip install python-dotenv\n",
        "!pip install boto3\n",
        "!pip install openai\n",
        "!pip install tiktoken\n",
        "!pip install ipywebrtc"
      ],
      "metadata": {
        "id": "v66-hHaRSqLB"
      },
      "execution_count": null,
      "outputs": []
    },
    {
      "cell_type": "code",
      "execution_count": null,
      "metadata": {
        "id": "QevMN6nTSdbq"
      },
      "outputs": [],
      "source": [
        "import pandas as pd\n",
        "import boto3\n",
        "import openai\n",
        "import time\n",
        "import tiktoken\n",
        "import os\n",
        "\n",
        "from dotenv import load_dotenv, find_dotenv\n",
        "_ = load_dotenv(find_dotenv()) # read local .env file\n"
      ]
    },
    {
      "cell_type": "code",
      "source": [
        "openai.api_key  = os.getenv('OPENAI_API_KEY')\n",
        "aws_key = os.getenv('key_id')\n",
        "region = os.getenv('region_name')\n",
        "aws_secret_access_key =os.getenv('secret_key')"
      ],
      "metadata": {
        "id": "UYAZliH0_-6O"
      },
      "execution_count": null,
      "outputs": []
    },
    {
      "cell_type": "code",
      "source": [
        "transcribe = boto3.client('transcribe',\n",
        "                          aws_access_key_id = aws_key, #insert your access key ID here\n",
        "                          aws_secret_access_key = aws_secret_access_key, # insert your secret access key here\n",
        "                          region_name = region # region: usually, I put \"eu-west-2\"\n",
        ")"
      ],
      "metadata": {
        "id": "I9vMRkKVS-xN"
      },
      "execution_count": null,
      "outputs": []
    },
    {
      "cell_type": "code",
      "source": [
        "def check_job_name(job_name):\n",
        "  job_verification = True\n",
        "\n",
        "  # all the transcriptions\n",
        "  existed_jobs = transcribe.list_transcription_jobs()\n",
        "\n",
        "  for job in existed_jobs['TranscriptionJobSummaries']:\n",
        "    if job_name == job['TranscriptionJobName']:\n",
        "      job_verification = False\n",
        "      break\n",
        "\n",
        "  if job_verification == False:\n",
        "    command = input(job_name + \" has existed. \\nDo you want to override the existed job (Y/N): \")\n",
        "    if command.lower() == \"y\" or command.lower() == \"yes\":\n",
        "      transcribe.delete_transcription_job(TranscriptionJobName=job_name)\n",
        "    elif command.lower() == \"n\" or command.lower() == \"no\":\n",
        "      job_name = input(\"Insert new job name? \")\n",
        "      check_job_name(job_name)\n",
        "    else:\n",
        "      print(\"Input can only be (Y/N)\")\n",
        "      command = input(job_name + \" has existed. \\nDo you want to override the existed job (Y/N): \")\n",
        "  return job_name"
      ],
      "metadata": {
        "id": "KuJONBYIWcAf"
      },
      "execution_count": null,
      "outputs": []
    },
    {
      "cell_type": "markdown",
      "source": [
        "Single Speaker"
      ],
      "metadata": {
        "id": "Qe52dM7AYD-x"
      }
    },
    {
      "cell_type": "code",
      "source": [
        "def amazon_transcribe(audio_file_name):\n",
        "  job_uri = 's3://transcibefun/Untitled.mp3' # your S3 access link\n",
        "  # Usually, I put like this to automate the process with the file name\n",
        "  # \"s3://bucket_name\" + audio_file_name\n",
        "\n",
        "  # Usually, file names have spaces and have the file extension like .mp3\n",
        "  # we take only a file name and delete all the space to name the job\n",
        "  job_name = (audio_file_name.split('.')[0]).replace(\" \", \"\")\n",
        "\n",
        "  # file format\n",
        "  file_format = audio_file_name.split('.')[1]\n",
        "\n",
        "  # check if name is taken or not\n",
        "  job_name = check_job_name(job_name)\n",
        "  transcribe.start_transcription_job(\n",
        "      TranscriptionJobName=job_name,\n",
        "      Media={'MediaFileUri': job_uri},\n",
        "      MediaFormat = file_format,\n",
        "      LanguageCode='en-GB')\n",
        "\n",
        "  while True:\n",
        "    result = transcribe.get_transcription_job(TranscriptionJobName=job_name)\n",
        "    if result['TranscriptionJob']['TranscriptionJobStatus'] in ['COMPLETED','FAILED']:\n",
        "      print(\"FAILED\")\n",
        "      break\n",
        "    time.sleep(15)\n",
        "\n",
        "  if result['TranscriptionJob']['TranscriptionJobStatus'] == \"COMPLETED\":\n",
        "    data = pd.read_json(result['TranscriptionJob']['Transcript']['TranscriptFileUri'])\n",
        "\n",
        "  return data['results'][1][0]['transcript']"
      ],
      "metadata": {
        "id": "pDTS0zsWSbfL"
      },
      "execution_count": null,
      "outputs": []
    },
    {
      "cell_type": "code",
      "source": [
        "from ipywebrtc import AudioRecorder, CameraStream"
      ],
      "metadata": {
        "id": "gz8x01dsZLR9"
      },
      "execution_count": null,
      "outputs": []
    },
    {
      "cell_type": "code",
      "source": [
        "from google.colab import output\n",
        "output.enable_custom_widget_manager()"
      ],
      "metadata": {
        "id": "NCBkoF1bZanI"
      },
      "execution_count": null,
      "outputs": []
    },
    {
      "cell_type": "code",
      "source": [
        "camera = CameraStream(constraints={'audio': True,'video':False})\n",
        "recorder = AudioRecorder(stream=camera)\n",
        "recorder"
      ],
      "metadata": {
        "id": "aQbbQ4m1VOgu"
      },
      "execution_count": null,
      "outputs": []
    },
    {
      "cell_type": "code",
      "source": [
        "from google.colab import output\n",
        "output.disable_custom_widget_manager()"
      ],
      "metadata": {
        "id": "GJnksnM2ZanP"
      },
      "execution_count": null,
      "outputs": []
    },
    {
      "cell_type": "code",
      "source": [
        "with open('recording.webm', 'wb') as f:\n",
        "    f.write(recorder.audio.value)\n",
        "!ffmpeg -i recording.webm -ac 1 -f mp3 Untitled.mp3 -y -hide_banner -loglevel panic"
      ],
      "metadata": {
        "id": "ZeadMZw3Y2kW"
      },
      "execution_count": null,
      "outputs": []
    },
    {
      "cell_type": "code",
      "source": [
        "client = boto3.client(\"s3\",\n",
        "                      aws_access_key_id = aws_key,\n",
        "                      aws_secret_access_key = aws_secret_access_key,\n",
        "                      region_name = region)\n",
        "client.upload_file(\"Untitled.mp3\", \"transcibefun\", \"Untitled.mp3\")"
      ],
      "metadata": {
        "id": "eWM2YXlbaRBS"
      },
      "execution_count": null,
      "outputs": []
    },
    {
      "cell_type": "code",
      "source": [
        "file = 'Untitled.mp3'\n",
        "db = amazon_transcribe(file)"
      ],
      "metadata": {
        "id": "BxBK8r-lYfeo"
      },
      "execution_count": null,
      "outputs": []
    },
    {
      "cell_type": "code",
      "source": [
        "print(db)"
      ],
      "metadata": {
        "id": "brytCdllxj1i"
      },
      "execution_count": null,
      "outputs": []
    },
    {
      "cell_type": "markdown",
      "source": [
        "**Create openai helper function**"
      ],
      "metadata": {
        "id": "D07-NNeOx6GX"
      }
    },
    {
      "cell_type": "code",
      "source": [
        "def get_completion(prompt, model=\"gpt-3.5-turbo\", temperature=0):\n",
        "    messages = [{\"role\": \"user\", \"content\": prompt}]\n",
        "    response = openai.ChatCompletion.create(\n",
        "        model=model,\n",
        "        messages=messages,\n",
        "        temperature=temperature,\n",
        "    )\n",
        "    return response.choices[0].message[\"content\"]"
      ],
      "metadata": {
        "id": "lF0l9BE0xxLt"
      },
      "execution_count": null,
      "outputs": []
    },
    {
      "cell_type": "code",
      "source": [
        "prompt = f\"\"\"\n",
        "Translate the following  text to Spanish: \\\n",
        "```{db}```\n",
        "\"\"\"\n",
        "response_gpt = get_completion(prompt)\n",
        "print(response_gpt)"
      ],
      "metadata": {
        "id": "OS5WTAaFz9NA"
      },
      "execution_count": null,
      "outputs": []
    },
    {
      "cell_type": "markdown",
      "source": [
        "**Create Polly Client**"
      ],
      "metadata": {
        "id": "GMg-H7ugHgDP"
      }
    },
    {
      "cell_type": "code",
      "source": [
        "polly_client = boto3.Session(\n",
        "                aws_access_key_id=aws_key,\n",
        "    aws_secret_access_key=aws_secret_access_key,\n",
        "    region_name='eu-west-2').client('polly')"
      ],
      "metadata": {
        "id": "eIWScHXGHcv_"
      },
      "execution_count": null,
      "outputs": []
    },
    {
      "cell_type": "code",
      "source": [
        "response = polly_client.synthesize_speech(VoiceId='Lucia',\n",
        "                OutputFormat='mp3',\n",
        "                Text = response_gpt)\n",
        "\n",
        "file = open('speech.mp3', 'wb')\n",
        "file.write(response['AudioStream'].read())\n",
        "file.close()"
      ],
      "metadata": {
        "id": "-LNUy40EI-NY"
      },
      "execution_count": null,
      "outputs": []
    },
    {
      "cell_type": "code",
      "source": [
        "from IPython.display import Audio\n",
        "from IPython.core.display import display\n",
        "def beep():\n",
        "    display(Audio('speech.mp3', autoplay=True))\n",
        "beep();"
      ],
      "metadata": {
        "id": "G_2zTxycLefj"
      },
      "execution_count": null,
      "outputs": []
    }
  ]
}